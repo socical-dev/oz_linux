{
 "cells": [
  {
   "cell_type": "markdown",
   "metadata": {},
   "source": [
    "문제1. oz라는 폴더가 있다는 가정하에 oz 폴더의 위치를 찾는 명령어를 작성해주세요\n",
    "\n",
    "[정답]\n",
    "```zsh\n",
    "find -name \"oz\"\n",
    "```"
   ]
  },
  {
   "cell_type": "markdown",
   "metadata": {},
   "source": [
    "문제2. 문제 2: 2024년 5월의 달력을 화면에 보여주는 리눅스 명령어를 작성해주세요\n",
    "\n",
    "[정답]\n",
    "```zsh\n",
    "cal 5 2024\n",
    "```"
   ]
  },
  {
   "cell_type": "markdown",
   "metadata": {},
   "source": [
    "문제 3: echo 명령어를 이용해 oz.txt라는 파일을 생성하고 파일안에 “Hello Linux”라는 내용이 들어갈 수 있도록 리눅스 명령어를 작성해주세요\n",
    "\n",
    "[정답]\n",
    "```zsh\n",
    "echo \"Hello Linux\" > oz.txt\n",
    "```"
   ]
  },
  {
   "cell_type": "markdown",
   "metadata": {},
   "source": [
    "문제 4 : 다음과 같은 명령어가 주어졌을 때, 그 결과로 무엇이 기대되는지 맞춰보세요.\n",
    "\n",
    "```bash\n",
    "echo \"apple banana orange\" | xargs -n 1 echo\n",
    "```\n",
    "\n",
    "[정답]\n",
    "\n",
    "\"apple banana orange\" 문자열을 \" \" 기준으로 문자열을 잘라 각 요소를 1개씩 출력하겠다는 뜻이다. \n",
    "즉, \n",
    "echo apple \n",
    "echo banana\n",
    "echo orange\n",
    "인 셈이다.\n",
    "\n",
    "* echo \"apple banana orange\" => \"apple banana orange\" 를 출력한다.\n",
    "* | => 앞의 명령어를 뒤의 명령어로 전달한다.\n",
    "* xargs => 기본적으로 스페이스바, 개행을 기준으로 문자열로 나눈다. 만약 ',' 일 경우 -d의 옵션을 이용해서 -d, 기준으로 문자열을 나누면 된다.\n",
    "* -n 1 => 몇 개만큼 오른쪽에 전달할 건지를 정하는 옵션이다. 뒤의 1이 붙어 있으니 요소를 1개씩 오른쪽의 명령어로 전달을 하겠다고 생각을 하면 된다. / -n 의 풀네임은 --max-args 이다. 최대 인자 설정하는 친구라고 보면 된다."
   ]
  },
  {
   "cell_type": "markdown",
   "metadata": {},
   "source": [
    "문제 5: 아래와 같은 순서로 명령어가 입력 되었을때 4번째 명령어를 다시 사용하기 위한 리눅스 명령어를 작성해주세요\n",
    "\n",
    "1. echo oz\n",
    "2. Clear\n",
    "3. History\n",
    "4. Cal\n",
    "5. Clear\n",
    "6. which oz\n",
    "\n",
    "[정답]\n",
    "!4\n",
    "\n",
    "* ! 는 history 에 기재된 명령어의 특정 항목을 실행할 수 있게하는 명령어이다.\n",
    "  * !! : 가장 최근에 사용한 명령어 실행\n",
    "  * !숫자 : history 의 번호에 맞는 항목을 실행\n",
    "  * !문자열 : 특정 문자열로 시작하는 최근에 사용한 명령어 실행\n",
    "\n",
    "* ^old^new : 이전에 사용한 명령어를 다음으로 명령어로 수정 후 실행\n"
   ]
  },
  {
   "cell_type": "markdown",
   "metadata": {},
   "source": [
    "문제6. 아래 설명 중 틀린 내용을 모두 골라주세요\n",
    "\n",
    "1. CommandNames 들은 쉘의 검색 PATH 안에 있어야 합니다.\n",
    "2. 쉘은 터미널을 통해 명령이 제출될 때 명령의 의미를 해석하는 것입니다.\n",
    "3. Linux 명령은 CommandName -options input 구조를 따릅니다.\n",
    "4. 일부 명령에는 짧은 형식 옵션만 사용할 수 있습니다.\n",
    "5. 긴 형식 옵션에는 대시 1개 (-)가 있고 짧은 형식 옵션에는 대시 2개(--)가 있습니다.\n",
    "\n",
    "[정답] 3,4\n",
    "\n",
    "3. Linux 명령은 CommandName -options input 구조를 따릅니다. => 꼭 그런건 아니다. 왜냐하면 CommandName input input 형식도 되기 때문이다. ex) cp file1.txt file2.txt\n",
    "5. 긴 형식 옵션에는 대시 1개 (-)가 있고 짧은 형식 옵션에는 대시 2개(--)가 있습니다. ==> 긴 형식 옵션은 대시 2개 (--)이며, 짧은 형식 옵션은 대시 1개 (-)이다."
   ]
  },
  {
   "cell_type": "markdown",
   "metadata": {},
   "source": [
    "문제7. Piping에 대한 설명으로 옳은것을 골라주세요\n",
    "\n",
    "1. 한 명령의 표준 출력을 다른 명령의 표준 입력에 연결하는 것이다\n",
    "2. 네트워크 연결 여부를 확인하는 명령어다\n",
    "3. 입력된 데이터를 모아 한번에 저장하기 위해 사용되는 명령어다\n",
    "4. 삭제된 파일 목록을 확인하기 위한 명령어다\n",
    "\n",
    "[정답] 1\n",
    "\n",
    "| 가 파이프 같다고 해서 piping 이라고 불리며, 앞의 명령어를 | 기준 뒤의 명령어로 전달하는 역할을 한다.\n",
    "\n",
    "* 네트워크 연결 여부 확인은 `ping` 이라는 명령어로 확인한다.\n",
    "* 입력된 데이터를 모아 한번에 저장하는데 사용되는 명령어는 `tee` 명령어를 사용한다.\n",
    "* 삭제된 파일 목록을 확인하기 위한 명령어는 휴지통을 찾아봐야하지 않을까 싶다...모르겠어여"
   ]
  },
  {
   "cell_type": "markdown",
   "metadata": {},
   "source": [
    "문제8. \"example.txt\" 파일에 \"Hello, world!\"라는 문자열을 기록하고, 동시에 터미널에도 출력하려고 합니다. 올바른 tee 명령어를 작성하세요.\n",
    "\n",
    "[정답]\n",
    "\n",
    "```zsh\n",
    "echo \"Hello, world\" | tee example.txt\n",
    "\n",
    "# echo \"Hello, world\" > example.txt => 이것도 위의 명령어처럼 example.txt 에 Hello, world 가 저장되지만 터미널에 출력되지 않는다.\n",
    "```\n",
    "\n",
    "* tee -a [파일명] -> 해당 파일에 추가하겠다. -a 는 풀네임 --append 의 약자이다.\n",
    "* tee file1.txt file2.txt -> file1.txt와 file2.txt 에 저장한다."
   ]
  },
  {
   "cell_type": "markdown",
   "metadata": {},
   "source": [
    "문제9. 파이프라인과 명령을 기억하기 쉬운 별명으로 저장하기 위해 사용하는 명령어를 골라주세요\n",
    "\n",
    "1. Aliases\n",
    "2. Set\n",
    "3. Reference\n",
    "4. TEE\n",
    "5. xargs\n",
    "\n",
    "[정답] 1\n",
    "\n",
    "* Aliases 는 명령어의 별명을 지정할 때 사용되는 명령어이다. ex) aliases ll = 'ls -al' 이렇게 입력하고 ll 을 입력하고 엔터를 누르면 ls -al 명령어가 실행된다."
   ]
  },
  {
   "cell_type": "markdown",
   "metadata": {},
   "source": [
    "문제10. 현재 디렉토리에 여러개의 `.txt` 파일이 있다고 가정해봅시다. 다른 파일은 남기고 `.txt`로 끝나는 파일들만 삭제하기 위해 작성해야 하는 명령어를 작성해보세요\n",
    "\n",
    "[정답]\n",
    "\n",
    "```zsh\n",
    "rm *.txt\n",
    "```\n",
    "\n",
    "* *.txt 는 txt 확장자를 모두 제거하겠다는 얘기인데, 실제로 작업한 것을 지울 때는 위험 할 수 있기에 ls *.txt 로 확인한 후 지우거나 --interactive(상호작용)의 약자인 -i 옵션을 사용하여 rm -i *.txt 로 하나하나씩 확인하면서 제거하는 방식으로 사용해도 좋을 것 같다.\n",
    "\n",
    "```zsh\n",
    "socical@ubuntu1:~$ rm -i *.txt\n",
    "rm: remove regular empty file 'date.txt'? y\n",
    "rm: remove regular file 'error.txt'? y\n",
    "rm: remove regular file 'hello.txt'? y\n",
    "rm: remove regular file 'input.txt'? y\n",
    "rm: remove regular empty file 'output.txt'? y\n",
    "rm: remove regular file 'today.txt'? y\n",
    "\n",
    "# 다음과 같이 하나씩 물어보며 제거할 수 있다.\n",
    "```"
   ]
  }
 ],
 "metadata": {
  "language_info": {
   "name": "python"
  }
 },
 "nbformat": 4,
 "nbformat_minor": 2
}
